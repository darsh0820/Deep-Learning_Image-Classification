{
  "nbformat": 4,
  "nbformat_minor": 0,
  "metadata": {
    "colab": {
      "provenance": [],
      "gpuType": "V28",
      "toc_visible": true,
      "authorship_tag": "ABX9TyOdmUqUw2xKn7SGCBJmabYq",
      "include_colab_link": true
    },
    "kernelspec": {
      "name": "python3",
      "display_name": "Python 3"
    },
    "language_info": {
      "name": "python"
    },
    "accelerator": "TPU"
  },
  "cells": [
    {
      "cell_type": "markdown",
      "metadata": {
        "id": "view-in-github",
        "colab_type": "text"
      },
      "source": [
        "<a href=\"https://colab.research.google.com/github/darsh0820/Deep-Learning_Neural-Network/blob/main/CNN.ipynb\" target=\"_parent\"><img src=\"https://colab.research.google.com/assets/colab-badge.svg\" alt=\"Open In Colab\"/></a>"
      ]
    },
    {
      "cell_type": "markdown",
      "source": [
        "# Convolutional Neural Network"
      ],
      "metadata": {
        "id": "NKwM3u408o6S"
      }
    },
    {
      "cell_type": "markdown",
      "source": [
        "##Importing Libraries"
      ],
      "metadata": {
        "id": "mkAXLaUj8JNx"
      }
    },
    {
      "cell_type": "code",
      "source": [
        "import tensorflow as tf\n",
        "from tensorflow.keras import layers, models, datasets, utils"
      ],
      "metadata": {
        "id": "uCBMVyiR0aIO"
      },
      "execution_count": 3,
      "outputs": []
    },
    {
      "cell_type": "markdown",
      "source": [
        "##Preparing the data"
      ],
      "metadata": {
        "id": "oUFrsHy28Nwe"
      }
    },
    {
      "cell_type": "markdown",
      "source": [
        "### Loading dataset"
      ],
      "metadata": {
        "id": "y7w7vWpuaQFz"
      }
    },
    {
      "cell_type": "code",
      "source": [
        "# Load and preprocess the MNIST dataset\n",
        "(x_train, y_train), (x_test, y_test) = datasets.mnist.load_data()"
      ],
      "metadata": {
        "id": "8ipMo8B60eux",
        "colab": {
          "base_uri": "https://localhost:8080/"
        },
        "outputId": "38d22fb9-cb48-4c8c-fc18-f46e30596931"
      },
      "execution_count": 4,
      "outputs": [
        {
          "output_type": "stream",
          "name": "stdout",
          "text": [
            "Downloading data from https://storage.googleapis.com/tensorflow/tf-keras-datasets/mnist.npz\n",
            "11490434/11490434 [==============================] - 0s 0us/step\n"
          ]
        }
      ]
    },
    {
      "cell_type": "markdown",
      "source": [
        "### Reshape the data"
      ],
      "metadata": {
        "id": "aG6ByRK7abJz"
      }
    },
    {
      "cell_type": "code",
      "source": [
        "# Reshape data to fit the model (28x28 pixels with 1 channel for grayscale images)\n",
        "x_train = x_train.reshape((x_train.shape[0], 28, 28, 1)).astype('float32') / 255\n",
        "x_test = x_test.reshape((x_test.shape[0], 28, 28, 1)).astype('float32') / 255"
      ],
      "metadata": {
        "id": "M2g_tN3f0uG_"
      },
      "execution_count": 5,
      "outputs": []
    },
    {
      "cell_type": "markdown",
      "source": [
        "### Encoding the labels"
      ],
      "metadata": {
        "id": "Q4Sb_mhZf54f"
      }
    },
    {
      "cell_type": "code",
      "source": [
        "# One-hot encode the labels\n",
        "y_train = utils.to_categorical(y_train, 10)\n",
        "y_test = utils.to_categorical(y_test, 10)"
      ],
      "metadata": {
        "id": "1f-pgei7f4tr"
      },
      "execution_count": 6,
      "outputs": []
    },
    {
      "cell_type": "markdown",
      "source": [
        "##Creating the model"
      ],
      "metadata": {
        "id": "ydYuPJ1J8Xep"
      }
    },
    {
      "cell_type": "markdown",
      "source": [
        "### Create the model"
      ],
      "metadata": {
        "id": "IOoS7jSuanYR"
      }
    },
    {
      "cell_type": "code",
      "source": [
        "# Create a simple Sequential model\n",
        "model = models.Sequential()"
      ],
      "metadata": {
        "id": "bibJpYC00x0u"
      },
      "execution_count": 7,
      "outputs": []
    },
    {
      "cell_type": "markdown",
      "source": [
        "### Adding Layers"
      ],
      "metadata": {
        "id": "GLQHbtKWaquy"
      }
    },
    {
      "cell_type": "code",
      "source": [
        "# First convolutional layer with 32 filters and 3x3 kernel size\n",
        "model.add(layers.Conv2D(32, (3, 3), activation='relu', input_shape=(28, 28, 1)))\n",
        "model.add(layers.BatchNormalization())\n",
        "model.add(layers.MaxPooling2D((2, 2)))\n",
        "\n",
        "# Second convolutional layer with 64 filters and 3x3 kernel size\n",
        "model.add(layers.Conv2D(64, (3, 3), activation='relu'))\n",
        "model.add(layers.BatchNormalization())\n",
        "model.add(layers.MaxPooling2D((2, 2)))\n",
        "\n",
        "# Flatten the output from the convolutional layers\n",
        "model.add(layers.Flatten())\n",
        "\n",
        "# Dense layer with 128 neurons\n",
        "model.add(layers.Dense(128, activation='relu'))\n",
        "model.add(layers.BatchNormalization())\n",
        "\n",
        "# Output layer with 10 neurons for the 10 classes (digits 0-9) using softmax activation\n",
        "model.add(layers.Dense(10, activation='softmax'))"
      ],
      "metadata": {
        "id": "gIVPg_tx01z_"
      },
      "execution_count": 8,
      "outputs": []
    },
    {
      "cell_type": "markdown",
      "source": [
        "### Compiling with optimizer and loss function"
      ],
      "metadata": {
        "id": "oJXGYJ7qawRQ"
      }
    },
    {
      "cell_type": "code",
      "source": [
        "# Compile the model\n",
        "model.compile(optimizer='adam',\n",
        "              loss='categorical_crossentropy',\n",
        "              metrics=['accuracy'])"
      ],
      "metadata": {
        "id": "SX_2bmf106Y8"
      },
      "execution_count": 9,
      "outputs": []
    },
    {
      "cell_type": "markdown",
      "source": [
        "### Building the model"
      ],
      "metadata": {
        "id": "w3j3EQewa4KQ"
      }
    },
    {
      "cell_type": "code",
      "source": [
        "# Build the model by specifying the input shape\n",
        "# model.build(input_shape=(None, 784))  # 'None' allows for variable batch sizes"
      ],
      "metadata": {
        "id": "7GYHANPUfQg3"
      },
      "execution_count": 10,
      "outputs": []
    },
    {
      "cell_type": "markdown",
      "source": [
        "### Summarizing the model"
      ],
      "metadata": {
        "id": "aZrisZk_a7Y5"
      }
    },
    {
      "cell_type": "code",
      "source": [
        "# Summary of the model\n",
        "model.summary()"
      ],
      "metadata": {
        "colab": {
          "base_uri": "https://localhost:8080/"
        },
        "id": "FtaTfkVv0-dH",
        "outputId": "50509956-3805-4eb7-e1a0-c31df7eedc23"
      },
      "execution_count": 11,
      "outputs": [
        {
          "output_type": "stream",
          "name": "stdout",
          "text": [
            "Model: \"sequential\"\n",
            "_________________________________________________________________\n",
            " Layer (type)                Output Shape              Param #   \n",
            "=================================================================\n",
            " conv2d (Conv2D)             (None, 26, 26, 32)        320       \n",
            "                                                                 \n",
            " batch_normalization (Batch  (None, 26, 26, 32)        128       \n",
            " Normalization)                                                  \n",
            "                                                                 \n",
            " max_pooling2d (MaxPooling2  (None, 13, 13, 32)        0         \n",
            " D)                                                              \n",
            "                                                                 \n",
            " conv2d_1 (Conv2D)           (None, 11, 11, 64)        18496     \n",
            "                                                                 \n",
            " batch_normalization_1 (Bat  (None, 11, 11, 64)        256       \n",
            " chNormalization)                                                \n",
            "                                                                 \n",
            " max_pooling2d_1 (MaxPoolin  (None, 5, 5, 64)          0         \n",
            " g2D)                                                            \n",
            "                                                                 \n",
            " flatten (Flatten)           (None, 1600)              0         \n",
            "                                                                 \n",
            " dense (Dense)               (None, 128)               204928    \n",
            "                                                                 \n",
            " batch_normalization_2 (Bat  (None, 128)               512       \n",
            " chNormalization)                                                \n",
            "                                                                 \n",
            " dense_1 (Dense)             (None, 10)                1290      \n",
            "                                                                 \n",
            "=================================================================\n",
            "Total params: 225930 (882.54 KB)\n",
            "Trainable params: 225482 (880.79 KB)\n",
            "Non-trainable params: 448 (1.75 KB)\n",
            "_________________________________________________________________\n"
          ]
        }
      ]
    },
    {
      "cell_type": "markdown",
      "source": [
        "##Training the model"
      ],
      "metadata": {
        "id": "QDUwQFEr8ced"
      }
    },
    {
      "cell_type": "code",
      "source": [
        "# Train the model with epoch updates and loss display\n",
        "history = model.fit(x_train, y_train, epochs=5, batch_size=32, verbose=1)"
      ],
      "metadata": {
        "colab": {
          "base_uri": "https://localhost:8080/"
        },
        "id": "49IRTNtH1CBF",
        "outputId": "19c7337d-e384-4f02-89b0-564c4fd07900"
      },
      "execution_count": 13,
      "outputs": [
        {
          "output_type": "stream",
          "name": "stdout",
          "text": [
            "Epoch 1/5\n",
            "1875/1875 [==============================] - 24s 12ms/step - loss: 0.0924 - accuracy: 0.9722\n",
            "Epoch 2/5\n",
            "1875/1875 [==============================] - 23s 12ms/step - loss: 0.0417 - accuracy: 0.9875\n",
            "Epoch 3/5\n",
            "1875/1875 [==============================] - 23s 12ms/step - loss: 0.0287 - accuracy: 0.9911\n",
            "Epoch 4/5\n",
            "1875/1875 [==============================] - 23s 12ms/step - loss: 0.0234 - accuracy: 0.9926\n",
            "Epoch 5/5\n",
            "1875/1875 [==============================] - 23s 12ms/step - loss: 0.0178 - accuracy: 0.9942\n"
          ]
        }
      ]
    },
    {
      "cell_type": "markdown",
      "source": [
        "##Model Evaluation"
      ],
      "metadata": {
        "id": "LuUSSShO8gnh"
      }
    },
    {
      "cell_type": "code",
      "source": [
        "# Evaluate the model on the test data\n",
        "test_loss, test_acc = model.evaluate(x_test, y_test, verbose=2)\n",
        "print(f'\\nTest accuracy: {test_acc}')"
      ],
      "metadata": {
        "colab": {
          "base_uri": "https://localhost:8080/"
        },
        "id": "l2ZODjbg1H5c",
        "outputId": "b04af243-eef6-441a-a614-def9268e0956"
      },
      "execution_count": 15,
      "outputs": [
        {
          "output_type": "stream",
          "name": "stdout",
          "text": [
            "313/313 - 1s - loss: 0.0292 - accuracy: 0.9906 - 1s/epoch - 4ms/step\n",
            "\n",
            "Test accuracy: 0.9905999898910522\n"
          ]
        }
      ]
    },
    {
      "cell_type": "markdown",
      "source": [
        "##Plotting prediction results"
      ],
      "metadata": {
        "id": "QH4lC7FZ8j35"
      }
    },
    {
      "cell_type": "markdown",
      "source": [
        "### Predicted values"
      ],
      "metadata": {
        "id": "5BcQXtNcbDQB"
      }
    },
    {
      "cell_type": "code",
      "source": [
        "import matplotlib.pyplot as plt\n",
        "import numpy as np\n",
        "\n",
        "# Predicting the labels for the test set\n",
        "predictions = model.predict(x_test)\n",
        "\n",
        "# Function to plot images along with predictions\n",
        "def plot_images(images, labels, predictions, num_images=5):\n",
        "    plt.figure(figsize=(10, 5))\n",
        "    for i in range(num_images):\n",
        "        plt.subplot(1, num_images, i + 1)\n",
        "        plt.imshow(images[i].reshape(28, 28), cmap='gray')\n",
        "        plt.title(f\"True: {labels[i]}\\nPred: {np.argmax(predictions[i])}\")\n",
        "        plt.axis('off')\n",
        "    plt.show()\n",
        "\n",
        "# Display some test images along with true labels and predicted labels\n",
        "plot_images(x_test, y_test, predictions)"
      ],
      "metadata": {
        "colab": {
          "base_uri": "https://localhost:8080/",
          "height": 230
        },
        "id": "Lr26OhkZ1vpy",
        "outputId": "eebae639-8322-4c0e-ba44-27cfc747e31e"
      },
      "execution_count": 30,
      "outputs": [
        {
          "output_type": "stream",
          "name": "stdout",
          "text": [
            "313/313 [==============================] - 1s 3ms/step\n"
          ]
        },
        {
          "output_type": "display_data",
          "data": {
            "text/plain": [
              "<Figure size 1000x500 with 5 Axes>"
            ],
            "image/png": "[encoded data removed]"
          },
          "metadata": {}
        }
      ]
    },
    {
      "cell_type": "markdown",
      "source": [
        "##Confusion matrix"
      ],
      "metadata": {
        "id": "lCi89Ch7-4Ap"
      }
    },
    {
      "cell_type": "code",
      "source": [
        "from sklearn.metrics import confusion_matrix\n",
        "import seaborn as sns"
      ],
      "metadata": {
        "id": "Fy1A_QgbdrRf"
      },
      "execution_count": 19,
      "outputs": []
    },
    {
      "cell_type": "code",
      "source": [
        "# Convert predicted probabilities to class labels\n",
        "predictions = np.argmax(predictions, axis=1)"
      ],
      "metadata": {
        "id": "qAKDZLEMd0IL"
      },
      "execution_count": 20,
      "outputs": []
    },
    {
      "cell_type": "code",
      "source": [
        "#Convert y_test to single-integer format if it's one-hot encoded\n",
        "if y_test.ndim == 2:\n",
        "    y_test = np.argmax(y_test, axis=1)\n",
        "\n",
        "#Create confusion matrix and normalizes it over predicted (columns)\n",
        "cm = confusion_matrix(y_test, predictions , normalize='pred')\n",
        "\n",
        "plt.figure(figsize=(6,6))\n",
        "sns.heatmap(cm, annot=True, fmt=\".3f\", linewidths=.75, square = True, annot_kws={\"size\": 7})\n",
        "plt.ylabel('Actual Value')\n",
        "plt.xlabel('Predicted Value')\n",
        "plt.title('Accuracy Score: {:.4f}'.format(test_acc), size = 15)\n",
        "plt.show()"
      ],
      "metadata": {
        "colab": {
          "base_uri": "https://localhost:8080/",
          "height": 507
        },
        "id": "Xb4q-y1tqBJ9",
        "outputId": "4fe12747-f3d6-4c3f-91f2-9f9b367ebbc9"
      },
      "execution_count": 22,
      "outputs": [
        {
          "output_type": "display_data",
          "data": {
            "text/plain": [
              "<Figure size 600x600 with 2 Axes>"
            ],
            "image/png": "[encoded data removed]"
          },
          "metadata": {}
        }
      ]
    }
  ]
}