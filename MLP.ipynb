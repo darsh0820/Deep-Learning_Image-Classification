{
  "nbformat": 4,
  "nbformat_minor": 0,
  "metadata": {
    "colab": {
      "provenance": [],
      "gpuType": "V28",
      "toc_visible": true,
      "authorship_tag": "ABX9TyN7pRwZUt4L49pylmBwV7h6",
      "include_colab_link": true
    },
    "kernelspec": {
      "name": "python3",
      "display_name": "Python 3"
    },
    "language_info": {
      "name": "python"
    },
    "accelerator": "TPU"
  },
  "cells": [
    {
      "cell_type": "markdown",
      "metadata": {
        "id": "view-in-github",
        "colab_type": "text"
      },
      "source": [
        "<a href=\"https://colab.research.google.com/github/darsh0820/Deep-Learning_Neural-Network/blob/main/MLP.ipynb\" target=\"_parent\"><img src=\"https://colab.research.google.com/assets/colab-badge.svg\" alt=\"Open In Colab\"/></a>"
      ]
    },
    {
      "cell_type": "markdown",
      "source": [
        "# Multi-Layer Perceptron"
      ],
      "metadata": {
        "id": "NKwM3u408o6S"
      }
    },
    {
      "cell_type": "markdown",
      "source": [
        "##Importing Libraries"
      ],
      "metadata": {
        "id": "mkAXLaUj8JNx"
      }
    },
    {
      "cell_type": "code",
      "source": [
        "import tensorflow as tf\n",
        "from tensorflow.keras import layers, models\n",
        "from tensorflow.keras.datasets import mnist"
      ],
      "metadata": {
        "id": "uCBMVyiR0aIO"
      },
      "execution_count": 1,
      "outputs": []
    },
    {
      "cell_type": "markdown",
      "source": [
        "##Preparing the data"
      ],
      "metadata": {
        "id": "oUFrsHy28Nwe"
      }
    },
    {
      "cell_type": "markdown",
      "source": [
        "### Loading dataset"
      ],
      "metadata": {
        "id": "y7w7vWpuaQFz"
      }
    },
    {
      "cell_type": "code",
      "source": [
        "# Load the dataset\n",
        "(X_train, y_train), (X_test, y_test) = mnist.load_data()"
      ],
      "metadata": {
        "id": "8ipMo8B60eux",
        "colab": {
          "base_uri": "https://localhost:8080/"
        },
        "outputId": "3970a31d-4610-43e5-c194-fdd17fc9481d"
      },
      "execution_count": 2,
      "outputs": [
        {
          "output_type": "stream",
          "name": "stdout",
          "text": [
            "Downloading data from https://storage.googleapis.com/tensorflow/tf-keras-datasets/mnist.npz\n",
            "11490434/11490434 [==============================] - 0s 0us/step\n"
          ]
        }
      ]
    },
    {
      "cell_type": "markdown",
      "source": [
        "### Normalizing the pixel values\n",
        "(Skip if using Batch Normalization)"
      ],
      "metadata": {
        "id": "kq-y5Ch9cW9M"
      }
    },
    {
      "cell_type": "code",
      "source": [
        "## Normalize the pixel values to be between 0 and 1\n",
        "#X_train = X_train.astype('float32') / 255.0\n",
        "#X_test = X_test.astype('float32') / 255.0"
      ],
      "metadata": {
        "id": "FWrnG2SL0qF0"
      },
      "execution_count": 3,
      "outputs": []
    },
    {
      "cell_type": "markdown",
      "source": [
        "### Flatten the images"
      ],
      "metadata": {
        "id": "aG6ByRK7abJz"
      }
    },
    {
      "cell_type": "code",
      "source": [
        "# Flatten the images from 28x28 to 784\n",
        "X_train = X_train.reshape(-1, 784)\n",
        "X_test = X_test.reshape(-1, 784)"
      ],
      "metadata": {
        "id": "M2g_tN3f0uG_"
      },
      "execution_count": 4,
      "outputs": []
    },
    {
      "cell_type": "markdown",
      "source": [
        "##Creating the model"
      ],
      "metadata": {
        "id": "ydYuPJ1J8Xep"
      }
    },
    {
      "cell_type": "markdown",
      "source": [
        "### Create the model"
      ],
      "metadata": {
        "id": "IOoS7jSuanYR"
      }
    },
    {
      "cell_type": "code",
      "source": [
        "# Create a simple Sequential model\n",
        "model = models.Sequential()"
      ],
      "metadata": {
        "id": "bibJpYC00x0u"
      },
      "execution_count": 5,
      "outputs": []
    },
    {
      "cell_type": "markdown",
      "source": [
        "### Adding Layers"
      ],
      "metadata": {
        "id": "GLQHbtKWaquy"
      }
    },
    {
      "cell_type": "code",
      "source": [
        "# Add layers to the model but normalize before every layer\n",
        "model.add(layers.BatchNormalization())\n",
        "\n",
        "# Input layer with 784 inputs and 100 neurons\n",
        "model.add(layers.Dense(100, activation='relu', input_shape=(784,)))\n",
        "model.add(layers.BatchNormalization())\n",
        "\n",
        "# Hidden layer with 64 neurons\n",
        "model.add(layers.Dense(64, activation='relu'))\n",
        "model.add(layers.BatchNormalization())\n",
        "\n",
        "# Output layer with 10 outputs for classification\n",
        "model.add(layers.Dense(10, activation='softmax'))"
      ],
      "metadata": {
        "id": "gIVPg_tx01z_"
      },
      "execution_count": 6,
      "outputs": []
    },
    {
      "cell_type": "markdown",
      "source": [
        "### Compiling with optimizer and loss function"
      ],
      "metadata": {
        "id": "oJXGYJ7qawRQ"
      }
    },
    {
      "cell_type": "code",
      "source": [
        "# Compile the model\n",
        "model.compile(optimizer='adam',\n",
        "              loss='sparse_categorical_crossentropy',\n",
        "              metrics=['accuracy'])"
      ],
      "metadata": {
        "id": "SX_2bmf106Y8"
      },
      "execution_count": 7,
      "outputs": []
    },
    {
      "cell_type": "markdown",
      "source": [
        "### Building the model"
      ],
      "metadata": {
        "id": "w3j3EQewa4KQ"
      }
    },
    {
      "cell_type": "code",
      "source": [
        "# Build the model by specifying the input shape\n",
        "model.build(input_shape=(None, 784))  # 'None' allows for variable batch sizes"
      ],
      "metadata": {
        "id": "7GYHANPUfQg3"
      },
      "execution_count": 8,
      "outputs": []
    },
    {
      "cell_type": "markdown",
      "source": [
        "### Summarizing the model"
      ],
      "metadata": {
        "id": "aZrisZk_a7Y5"
      }
    },
    {
      "cell_type": "code",
      "source": [
        "# Summary of the model\n",
        "model.summary()"
      ],
      "metadata": {
        "colab": {
          "base_uri": "https://localhost:8080/"
        },
        "id": "FtaTfkVv0-dH",
        "outputId": "a76bcf6b-3313-4b1e-9052-5b0ec22bdb22"
      },
      "execution_count": 9,
      "outputs": [
        {
          "output_type": "stream",
          "name": "stdout",
          "text": [
            "Model: \"sequential\"\n",
            "_________________________________________________________________\n",
            " Layer (type)                Output Shape              Param #   \n",
            "=================================================================\n",
            " batch_normalization (Batch  (None, 784)               3136      \n",
            " Normalization)                                                  \n",
            "                                                                 \n",
            " dense (Dense)               (None, 100)               78500     \n",
            "                                                                 \n",
            " batch_normalization_1 (Bat  (None, 100)               400       \n",
            " chNormalization)                                                \n",
            "                                                                 \n",
            " dense_1 (Dense)             (None, 64)                6464      \n",
            "                                                                 \n",
            " batch_normalization_2 (Bat  (None, 64)                256       \n",
            " chNormalization)                                                \n",
            "                                                                 \n",
            " dense_2 (Dense)             (None, 10)                650       \n",
            "                                                                 \n",
            "=================================================================\n",
            "Total params: 89406 (349.24 KB)\n",
            "Trainable params: 87510 (341.84 KB)\n",
            "Non-trainable params: 1896 (7.41 KB)\n",
            "_________________________________________________________________\n"
          ]
        }
      ]
    },
    {
      "cell_type": "markdown",
      "source": [
        "##Training the model"
      ],
      "metadata": {
        "id": "QDUwQFEr8ced"
      }
    },
    {
      "cell_type": "code",
      "source": [
        "# Train the model with epoch updates and loss display\n",
        "history = model.fit(X_train, y_train, epochs=5, batch_size=32, verbose=1)"
      ],
      "metadata": {
        "colab": {
          "base_uri": "https://localhost:8080/"
        },
        "id": "49IRTNtH1CBF",
        "outputId": "c375b009-4c73-4279-91de-6908152573b9"
      },
      "execution_count": 10,
      "outputs": [
        {
          "output_type": "stream",
          "name": "stdout",
          "text": [
            "Epoch 1/5\n",
            "1875/1875 [==============================] - 7s 3ms/step - loss: 0.2640 - accuracy: 0.9209\n",
            "Epoch 2/5\n",
            "1875/1875 [==============================] - 6s 3ms/step - loss: 0.1297 - accuracy: 0.9595\n",
            "Epoch 3/5\n",
            "1875/1875 [==============================] - 6s 3ms/step - loss: 0.1020 - accuracy: 0.9681\n",
            "Epoch 4/5\n",
            "1875/1875 [==============================] - 6s 3ms/step - loss: 0.0826 - accuracy: 0.9736\n",
            "Epoch 5/5\n",
            "1875/1875 [==============================] - 6s 3ms/step - loss: 0.0726 - accuracy: 0.9770\n"
          ]
        }
      ]
    },
    {
      "cell_type": "markdown",
      "source": [
        "##Model Evaluation"
      ],
      "metadata": {
        "id": "LuUSSShO8gnh"
      }
    },
    {
      "cell_type": "code",
      "source": [
        "# Evaluate the model on the test data\n",
        "test_loss, test_acc = model.evaluate(X_test, y_test, verbose=2)\n",
        "print(f'\\nTest accuracy: {test_acc}')"
      ],
      "metadata": {
        "colab": {
          "base_uri": "https://localhost:8080/"
        },
        "id": "l2ZODjbg1H5c",
        "outputId": "a0cc568f-08c9-4563-c64a-d689432aeea0"
      },
      "execution_count": 11,
      "outputs": [
        {
          "output_type": "stream",
          "name": "stdout",
          "text": [
            "313/313 - 1s - loss: 0.3895 - accuracy: 0.9718 - 656ms/epoch - 2ms/step\n",
            "\n",
            "Test accuracy: 0.9718000292778015\n"
          ]
        }
      ]
    },
    {
      "cell_type": "markdown",
      "source": [
        "##Plotting prediction results"
      ],
      "metadata": {
        "id": "QH4lC7FZ8j35"
      }
    },
    {
      "cell_type": "markdown",
      "source": [
        "### Predicted values"
      ],
      "metadata": {
        "id": "5BcQXtNcbDQB"
      }
    },
    {
      "cell_type": "code",
      "source": [
        "import matplotlib.pyplot as plt\n",
        "import numpy as np\n",
        "\n",
        "# Predicting the labels for the test set\n",
        "predictions = model.predict(X_test)\n",
        "\n",
        "# Function to plot images along with predictions\n",
        "def plot_images(images, labels, predictions, num_images=5):\n",
        "    plt.figure(figsize=(10, 5))\n",
        "    for i in range(num_images):\n",
        "        plt.subplot(1, num_images, i + 1)\n",
        "        plt.imshow(images[i].reshape(28, 28), cmap='gray')\n",
        "        plt.title(f\"True: {labels[i]}\\nPred: {np.argmax(predictions[i])}\")\n",
        "        plt.axis('off')\n",
        "    plt.show()\n",
        "\n",
        "# Display some test images along with true labels and predicted labels\n",
        "plot_images(X_test, y_test, predictions)"
      ],
      "metadata": {
        "colab": {
          "base_uri": "https://localhost:8080/",
          "height": 230
        },
        "id": "Lr26OhkZ1vpy",
        "outputId": "7043ceaa-e63b-4550-d654-96ebcb9e8ac3"
      },
      "execution_count": 12,
      "outputs": [
        {
          "output_type": "stream",
          "name": "stdout",
          "text": [
            "313/313 [==============================] - 1s 2ms/step\n"
          ]
        },
        {
          "output_type": "display_data",
          "data": {
            "text/plain": [
              "<Figure size 1000x500 with 5 Axes>"
            ],
            "image/png": "[encoded data removed]"
          },
          "metadata": {}
        }
      ]
    },
    {
      "cell_type": "markdown",
      "source": [
        "##Confusion matrix"
      ],
      "metadata": {
        "id": "lCi89Ch7-4Ap"
      }
    },
    {
      "cell_type": "code",
      "source": [
        "from sklearn.metrics import confusion_matrix\n",
        "import seaborn as sns"
      ],
      "metadata": {
        "id": "Fy1A_QgbdrRf"
      },
      "execution_count": 13,
      "outputs": []
    },
    {
      "cell_type": "code",
      "source": [
        "# Convert predicted probabilities to class labels\n",
        "predictions = np.argmax(predictions, axis=1)"
      ],
      "metadata": {
        "id": "qAKDZLEMd0IL"
      },
      "execution_count": 14,
      "outputs": []
    },
    {
      "cell_type": "code",
      "source": [
        "# # Check y_test\n",
        "# print(f\"y_test value: {y_test}\")\n",
        "# print(f\"y_test type: {type(y_test)}\")"
      ],
      "metadata": {
        "id": "IW65WQvbd3te"
      },
      "execution_count": 15,
      "outputs": []
    },
    {
      "cell_type": "code",
      "source": [
        "\n",
        "#Create confusion matrix and normalizes it over predicted (columns)\n",
        "cm = confusion_matrix(y_test, predictions , normalize='pred')\n",
        "\n",
        "plt.figure(figsize=(6,6))\n",
        "sns.heatmap(cm, annot=True, fmt=\".3f\", linewidths=.75, square = True, annot_kws={\"size\": 7})\n",
        "plt.ylabel('Actual Value')\n",
        "plt.xlabel('Predicted Value')\n",
        "plt.title('Accuracy Score: {:.4f}'.format(test_acc), size = 15)\n",
        "plt.show()"
      ],
      "metadata": {
        "colab": {
          "base_uri": "https://localhost:8080/",
          "height": 507
        },
        "id": "Xb4q-y1tqBJ9",
        "outputId": "ed1219ed-03e5-4a3b-bd19-0767828502ff"
      },
      "execution_count": 21,
      "outputs": [
        {
          "output_type": "display_data",
          "data": {
            "text/plain": [
              "<Figure size 600x600 with 2 Axes>"
            ],
            "image/png": "[encoded data removed]"
          },
          "metadata": {}
        }
      ]
    }
  ]
}