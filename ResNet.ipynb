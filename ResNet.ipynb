{
  "nbformat": 4,
  "nbformat_minor": 0,
  "metadata": {
    "colab": {
      "provenance": [],
      "gpuType": "V28",
      "toc_visible": true,
      "authorship_tag": "ABX9TyMWor9qtqMlnJmjFOBstkqC",
      "include_colab_link": true
    },
    "kernelspec": {
      "name": "python3",
      "display_name": "Python 3"
    },
    "language_info": {
      "name": "python"
    },
    "accelerator": "TPU"
  },
  "cells": [
    {
      "cell_type": "markdown",
      "metadata": {
        "id": "view-in-github",
        "colab_type": "text"
      },
      "source": [
        "<a href=\"https://colab.research.google.com/github/darsh0820/Deep-Learning_Image-Classification/blob/main/ResNet.ipynb\" target=\"_parent\"><img src=\"https://colab.research.google.com/assets/colab-badge.svg\" alt=\"Open In Colab\"/></a>"
      ]
    },
    {
      "cell_type": "markdown",
      "source": [
        "# Residual Networks (ResNet)"
      ],
      "metadata": {
        "id": "NKwM3u408o6S"
      }
    },
    {
      "cell_type": "markdown",
      "source": [
        "##Importing Libraries"
      ],
      "metadata": {
        "id": "mkAXLaUj8JNx"
      }
    },
    {
      "cell_type": "code",
      "source": [
        "import tensorflow as tf\n",
        "from tensorflow.keras import layers, models\n",
        "from tensorflow.keras.applications import ResNet50\n",
        "from tensorflow.keras.datasets import mnist\n",
        "from tensorflow.keras.utils import to_categorical"
      ],
      "metadata": {
        "id": "uCBMVyiR0aIO"
      },
      "execution_count": 17,
      "outputs": []
    },
    {
      "cell_type": "markdown",
      "source": [
        "##Preparing the data"
      ],
      "metadata": {
        "id": "oUFrsHy28Nwe"
      }
    },
    {
      "cell_type": "markdown",
      "source": [
        "### Loading dataset"
      ],
      "metadata": {
        "id": "y7w7vWpuaQFz"
      }
    },
    {
      "cell_type": "code",
      "source": [
        "(x_train, y_train), (x_test, y_test) = mnist.load_data()"
      ],
      "metadata": {
        "id": "8ipMo8B60eux"
      },
      "execution_count": 18,
      "outputs": []
    },
    {
      "cell_type": "markdown",
      "source": [
        "### Reshape the data"
      ],
      "metadata": {
        "id": "aG6ByRK7abJz"
      }
    },
    {
      "cell_type": "code",
      "source": [
        "# Reshape the data to include the channel dimension (28x28 grayscale to 28x28x1)\n",
        "x_train = x_train.reshape(-1, 28, 28, 1).astype('float32') / 255.0\n",
        "x_test = x_test.reshape(-1, 28, 28, 1).astype('float32') / 255.0"
      ],
      "metadata": {
        "id": "M2g_tN3f0uG_"
      },
      "execution_count": 19,
      "outputs": []
    },
    {
      "cell_type": "markdown",
      "source": [
        "### Converting to 3 channels and resizing to 32x32"
      ],
      "metadata": {
        "id": "BiTLdoEtKKom"
      }
    },
    {
      "cell_type": "code",
      "source": [
        "# Convert grayscale to RGB (3 channels) and resize to 32x32 for ResNet50\n",
        "x_train = tf.image.resize(tf.image.grayscale_to_rgb(tf.convert_to_tensor(x_train)), [32, 32])\n",
        "x_test = tf.image.resize(tf.image.grayscale_to_rgb(tf.convert_to_tensor(x_test)), [32, 32])"
      ],
      "metadata": {
        "id": "Fc6MrZ4iKFFd"
      },
      "execution_count": 20,
      "outputs": []
    },
    {
      "cell_type": "markdown",
      "source": [
        "### Converting tensors to numpy arrays"
      ],
      "metadata": {
        "id": "QfMppZWBLbY2"
      }
    },
    {
      "cell_type": "code",
      "source": [
        "# Convert Tensors to numpy arrays (to avoid TensorFlow undefined shape issues)\n",
        "x_train = x_train.numpy()\n",
        "x_test = x_test.numpy()"
      ],
      "metadata": {
        "id": "6zfgfyaDLaST"
      },
      "execution_count": 21,
      "outputs": []
    },
    {
      "cell_type": "markdown",
      "source": [
        "### Encoding the labels"
      ],
      "metadata": {
        "id": "Q4Sb_mhZf54f"
      }
    },
    {
      "cell_type": "code",
      "source": [
        "y_train = to_categorical(y_train, 10)\n",
        "y_test = to_categorical(y_test, 10)"
      ],
      "metadata": {
        "id": "1f-pgei7f4tr"
      },
      "execution_count": 22,
      "outputs": []
    },
    {
      "cell_type": "markdown",
      "source": [
        "##Creating the model"
      ],
      "metadata": {
        "id": "ydYuPJ1J8Xep"
      }
    },
    {
      "cell_type": "markdown",
      "source": [
        "### Load the ResNet50 model"
      ],
      "metadata": {
        "id": "d9Dk0ooAIAOA"
      }
    },
    {
      "cell_type": "code",
      "source": [
        "# Load the ResNet50 model, pre-trained on ImageNet, excluding the top layer\n",
        "# Input shape is now (32, 32, 3) to match the resized RGB MNIST images\n",
        "resnet = ResNet50(weights=None, include_top=False, input_shape=(32, 32, 3))"
      ],
      "metadata": {
        "id": "QQOML2ewKeBA"
      },
      "execution_count": 23,
      "outputs": []
    },
    {
      "cell_type": "markdown",
      "source": [
        "### Build the model"
      ],
      "metadata": {
        "id": "IOoS7jSuanYR"
      }
    },
    {
      "cell_type": "code",
      "source": [
        "model = models.Sequential()"
      ],
      "metadata": {
        "id": "bibJpYC00x0u"
      },
      "execution_count": 24,
      "outputs": []
    },
    {
      "cell_type": "markdown",
      "source": [
        "### Adding Layers"
      ],
      "metadata": {
        "id": "GLQHbtKWaquy"
      }
    },
    {
      "cell_type": "code",
      "source": [
        "model.add(layers.InputLayer(input_shape=(32, 32, 3)))\n",
        "model.add(resnet)\n",
        "model.add(layers.GlobalAveragePooling2D())  # Reduce the output of ResNet50 to a vector\n",
        "model.add(layers.Dense(128, activation='relu'))  # Add a fully connected layer\n",
        "model.add(layers.Dense(10, activation='softmax'))  # Output layer for 10 classes"
      ],
      "metadata": {
        "id": "gIVPg_tx01z_"
      },
      "execution_count": 25,
      "outputs": []
    },
    {
      "cell_type": "markdown",
      "source": [
        "### Compiling with optimizer and loss function"
      ],
      "metadata": {
        "id": "oJXGYJ7qawRQ"
      }
    },
    {
      "cell_type": "code",
      "source": [
        "model.compile(optimizer='adam', loss='categorical_crossentropy', metrics=['accuracy'])"
      ],
      "metadata": {
        "id": "SX_2bmf106Y8"
      },
      "execution_count": 26,
      "outputs": []
    },
    {
      "cell_type": "markdown",
      "source": [
        "### Summarizing the model"
      ],
      "metadata": {
        "id": "aZrisZk_a7Y5"
      }
    },
    {
      "cell_type": "code",
      "source": [
        "model.summary()"
      ],
      "metadata": {
        "colab": {
          "base_uri": "https://localhost:8080/"
        },
        "id": "FtaTfkVv0-dH",
        "outputId": "6a93a0f3-fd8c-4ee5-d845-c23d965072f3"
      },
      "execution_count": 27,
      "outputs": [
        {
          "output_type": "stream",
          "name": "stdout",
          "text": [
            "Model: \"sequential_1\"\n",
            "_________________________________________________________________\n",
            " Layer (type)                Output Shape              Param #   \n",
            "=================================================================\n",
            " resnet50 (Functional)       (None, 1, 1, 2048)        23587712  \n",
            "                                                                 \n",
            " global_average_pooling2d_1  (None, 2048)              0         \n",
            "  (GlobalAveragePooling2D)                                       \n",
            "                                                                 \n",
            " dense_2 (Dense)             (None, 128)               262272    \n",
            "                                                                 \n",
            " dense_3 (Dense)             (None, 10)                1290      \n",
            "                                                                 \n",
            "=================================================================\n",
            "Total params: 23851274 (90.99 MB)\n",
            "Trainable params: 23798154 (90.78 MB)\n",
            "Non-trainable params: 53120 (207.50 KB)\n",
            "_________________________________________________________________\n"
          ]
        }
      ]
    },
    {
      "cell_type": "markdown",
      "source": [
        "##Training the model"
      ],
      "metadata": {
        "id": "QDUwQFEr8ced"
      }
    },
    {
      "cell_type": "code",
      "source": [
        "model.fit(x_train, y_train, epochs=3, batch_size=64, verbose=1)\n"
      ],
      "metadata": {
        "colab": {
          "base_uri": "https://localhost:8080/"
        },
        "id": "49IRTNtH1CBF",
        "outputId": "83cf5a3a-f3c7-4e50-efda-b7fa242d2217"
      },
      "execution_count": 28,
      "outputs": [
        {
          "output_type": "stream",
          "name": "stdout",
          "text": [
            "Epoch 1/3\n",
            "938/938 [==============================] - 265s 265ms/step - loss: 0.2444 - accuracy: 0.9299\n",
            "Epoch 2/3\n",
            "938/938 [==============================] - 248s 265ms/step - loss: 0.0861 - accuracy: 0.9759\n",
            "Epoch 3/3\n",
            "938/938 [==============================] - 248s 264ms/step - loss: 0.0778 - accuracy: 0.9785\n"
          ]
        },
        {
          "output_type": "execute_result",
          "data": {
            "text/plain": [
              "<keras.src.callbacks.History at 0x7b28f6513a60>"
            ]
          },
          "metadata": {},
          "execution_count": 28
        }
      ]
    },
    {
      "cell_type": "markdown",
      "source": [
        "##Model Evaluation"
      ],
      "metadata": {
        "id": "LuUSSShO8gnh"
      }
    },
    {
      "cell_type": "code",
      "source": [
        "test_loss, test_acc = model.evaluate(x_test, y_test, verbose=2)\n",
        "print(f'\\nTest accuracy: {test_acc}')"
      ],
      "metadata": {
        "colab": {
          "base_uri": "https://localhost:8080/"
        },
        "id": "l2ZODjbg1H5c",
        "outputId": "5053f35c-cfe2-4638-d761-773f69675caa"
      },
      "execution_count": 29,
      "outputs": [
        {
          "output_type": "stream",
          "name": "stdout",
          "text": [
            "313/313 - 16s - loss: 0.0496 - accuracy: 0.9864 - 16s/epoch - 50ms/step\n",
            "\n",
            "Test accuracy: 0.9864000082015991\n"
          ]
        }
      ]
    },
    {
      "cell_type": "markdown",
      "source": [
        "##Plotting prediction results"
      ],
      "metadata": {
        "id": "QH4lC7FZ8j35"
      }
    },
    {
      "cell_type": "markdown",
      "source": [
        "### Predicted values"
      ],
      "metadata": {
        "id": "5BcQXtNcbDQB"
      }
    },
    {
      "cell_type": "code",
      "source": [
        "import matplotlib.pyplot as plt\n",
        "import numpy as np\n",
        "\n",
        "predictions = model.predict(x_test)\n",
        "\n",
        "def plot_images(images, labels, predictions, num_images=5):\n",
        "    plt.figure(figsize=(10, 10))\n",
        "    for i in range(num_images):\n",
        "        plt.subplot(1, num_images, i + 1)\n",
        "        plt.imshow(images[i].reshape(32, 32, 3), cmap='gray')\n",
        "        plt.title(f\"True: {np.argmax(labels[i])}\\nPred: {np.argmax(predictions[i])}\")\n",
        "        plt.axis('off')\n",
        "\n",
        "    plt.show()\n",
        "\n",
        "plot_images(x_test, y_test, predictions)"
      ],
      "metadata": {
        "colab": {
          "base_uri": "https://localhost:8080/",
          "height": 230
        },
        "id": "Lr26OhkZ1vpy",
        "outputId": "dfc4507a-bf1f-4add-d363-2307d24a08d0"
      },
      "execution_count": 31,
      "outputs": [
        {
          "output_type": "stream",
          "name": "stdout",
          "text": [
            "313/313 [==============================] - 15s 48ms/step\n"
          ]
        },
        {
          "output_type": "display_data",
          "data": {
            "text/plain": [
              "<Figure size 1000x1000 with 5 Axes>"
            ],
            "image/png": "[encoded data removed]"
          },
          "metadata": {}
        }
      ]
    },
    {
      "cell_type": "markdown",
      "source": [
        "##Confusion matrix"
      ],
      "metadata": {
        "id": "lCi89Ch7-4Ap"
      }
    },
    {
      "cell_type": "code",
      "source": [
        "from sklearn.metrics import confusion_matrix\n",
        "import seaborn as sns"
      ],
      "metadata": {
        "id": "Fy1A_QgbdrRf"
      },
      "execution_count": 32,
      "outputs": []
    },
    {
      "cell_type": "code",
      "source": [
        "# Convert predicted probabilities to class labels\n",
        "predictions = np.argmax(predictions, axis=1)"
      ],
      "metadata": {
        "id": "qAKDZLEMd0IL"
      },
      "execution_count": 33,
      "outputs": []
    },
    {
      "cell_type": "code",
      "source": [
        "#Convert y_test to single-integer format if it's one-hot encoded\n",
        "if y_test.ndim == 2:\n",
        "    y_test = np.argmax(y_test, axis=1)\n",
        "\n",
        "cm = confusion_matrix(y_test, predictions , normalize='pred')\n",
        "\n",
        "plt.figure(figsize=(7,6))\n",
        "sns.heatmap(cm, annot=True, fmt=\".3f\", linewidths=.75, square = True, annot_kws={\"size\": 8})\n",
        "plt.ylabel('Actual Value')\n",
        "plt.xlabel('Predicted Value')\n",
        "plt.title('Accuracy Score: {:.2f}'.format(test_acc), size = 15)\n",
        "plt.show()"
      ],
      "metadata": {
        "colab": {
          "base_uri": "https://localhost:8080/",
          "height": 538
        },
        "id": "Xb4q-y1tqBJ9",
        "outputId": "67277739-8602-44cf-9d0c-e343f5d9df24"
      },
      "execution_count": 34,
      "outputs": [
        {
          "output_type": "display_data",
          "data": {
            "text/plain": [
              "<Figure size 700x600 with 2 Axes>"
            ],
            "image/png": "[encoded data removed]"
          },
          "metadata": {}
        }
      ]
    }
  ]
}